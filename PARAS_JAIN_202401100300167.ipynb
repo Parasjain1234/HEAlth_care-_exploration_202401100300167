{
  "nbformat": 4,
  "nbformat_minor": 0,
  "metadata": {
    "colab": {
      "provenance": []
    },
    "kernelspec": {
      "name": "python3",
      "display_name": "Python 3"
    },
    "language_info": {
      "name": "python"
    }
  },
  "cells": [
    {
      "cell_type": "code",
      "execution_count": 1,
      "metadata": {
        "colab": {
          "base_uri": "https://localhost:8080/",
          "height": 206
        },
        "id": "nDFtfHYqiGRl",
        "outputId": "b1dc5a1e-c852-4115-ebb4-136970853df8"
      },
      "outputs": [
        {
          "output_type": "execute_result",
          "data": {
            "text/plain": [
              "   PatientID  Age  BloodPressure  SugarLevel      Weight\n",
              "0          1   44            118   87.892495  105.568034\n",
              "1          2   39            109  177.321803  105.703426\n",
              "2          3   49            149  144.148273   77.787070\n",
              "3          4   58            121   90.355404  115.244784\n",
              "4          5   35            109  126.421800   70.383790"
            ],
            "text/html": [
              "\n",
              "  <div id=\"df-a418f04e-21fc-4546-9f83-f4a01724e959\" class=\"colab-df-container\">\n",
              "    <div>\n",
              "<style scoped>\n",
              "    .dataframe tbody tr th:only-of-type {\n",
              "        vertical-align: middle;\n",
              "    }\n",
              "\n",
              "    .dataframe tbody tr th {\n",
              "        vertical-align: top;\n",
              "    }\n",
              "\n",
              "    .dataframe thead th {\n",
              "        text-align: right;\n",
              "    }\n",
              "</style>\n",
              "<table border=\"1\" class=\"dataframe\">\n",
              "  <thead>\n",
              "    <tr style=\"text-align: right;\">\n",
              "      <th></th>\n",
              "      <th>PatientID</th>\n",
              "      <th>Age</th>\n",
              "      <th>BloodPressure</th>\n",
              "      <th>SugarLevel</th>\n",
              "      <th>Weight</th>\n",
              "    </tr>\n",
              "  </thead>\n",
              "  <tbody>\n",
              "    <tr>\n",
              "      <th>0</th>\n",
              "      <td>1</td>\n",
              "      <td>44</td>\n",
              "      <td>118</td>\n",
              "      <td>87.892495</td>\n",
              "      <td>105.568034</td>\n",
              "    </tr>\n",
              "    <tr>\n",
              "      <th>1</th>\n",
              "      <td>2</td>\n",
              "      <td>39</td>\n",
              "      <td>109</td>\n",
              "      <td>177.321803</td>\n",
              "      <td>105.703426</td>\n",
              "    </tr>\n",
              "    <tr>\n",
              "      <th>2</th>\n",
              "      <td>3</td>\n",
              "      <td>49</td>\n",
              "      <td>149</td>\n",
              "      <td>144.148273</td>\n",
              "      <td>77.787070</td>\n",
              "    </tr>\n",
              "    <tr>\n",
              "      <th>3</th>\n",
              "      <td>4</td>\n",
              "      <td>58</td>\n",
              "      <td>121</td>\n",
              "      <td>90.355404</td>\n",
              "      <td>115.244784</td>\n",
              "    </tr>\n",
              "    <tr>\n",
              "      <th>4</th>\n",
              "      <td>5</td>\n",
              "      <td>35</td>\n",
              "      <td>109</td>\n",
              "      <td>126.421800</td>\n",
              "      <td>70.383790</td>\n",
              "    </tr>\n",
              "  </tbody>\n",
              "</table>\n",
              "</div>\n",
              "    <div class=\"colab-df-buttons\">\n",
              "\n",
              "  <div class=\"colab-df-container\">\n",
              "    <button class=\"colab-df-convert\" onclick=\"convertToInteractive('df-a418f04e-21fc-4546-9f83-f4a01724e959')\"\n",
              "            title=\"Convert this dataframe to an interactive table.\"\n",
              "            style=\"display:none;\">\n",
              "\n",
              "  <svg xmlns=\"http://www.w3.org/2000/svg\" height=\"24px\" viewBox=\"0 -960 960 960\">\n",
              "    <path d=\"M120-120v-720h720v720H120Zm60-500h600v-160H180v160Zm220 220h160v-160H400v160Zm0 220h160v-160H400v160ZM180-400h160v-160H180v160Zm440 0h160v-160H620v160ZM180-180h160v-160H180v160Zm440 0h160v-160H620v160Z\"/>\n",
              "  </svg>\n",
              "    </button>\n",
              "\n",
              "  <style>\n",
              "    .colab-df-container {\n",
              "      display:flex;\n",
              "      gap: 12px;\n",
              "    }\n",
              "\n",
              "    .colab-df-convert {\n",
              "      background-color: #E8F0FE;\n",
              "      border: none;\n",
              "      border-radius: 50%;\n",
              "      cursor: pointer;\n",
              "      display: none;\n",
              "      fill: #1967D2;\n",
              "      height: 32px;\n",
              "      padding: 0 0 0 0;\n",
              "      width: 32px;\n",
              "    }\n",
              "\n",
              "    .colab-df-convert:hover {\n",
              "      background-color: #E2EBFA;\n",
              "      box-shadow: 0px 1px 2px rgba(60, 64, 67, 0.3), 0px 1px 3px 1px rgba(60, 64, 67, 0.15);\n",
              "      fill: #174EA6;\n",
              "    }\n",
              "\n",
              "    .colab-df-buttons div {\n",
              "      margin-bottom: 4px;\n",
              "    }\n",
              "\n",
              "    [theme=dark] .colab-df-convert {\n",
              "      background-color: #3B4455;\n",
              "      fill: #D2E3FC;\n",
              "    }\n",
              "\n",
              "    [theme=dark] .colab-df-convert:hover {\n",
              "      background-color: #434B5C;\n",
              "      box-shadow: 0px 1px 3px 1px rgba(0, 0, 0, 0.15);\n",
              "      filter: drop-shadow(0px 1px 2px rgba(0, 0, 0, 0.3));\n",
              "      fill: #FFFFFF;\n",
              "    }\n",
              "  </style>\n",
              "\n",
              "    <script>\n",
              "      const buttonEl =\n",
              "        document.querySelector('#df-a418f04e-21fc-4546-9f83-f4a01724e959 button.colab-df-convert');\n",
              "      buttonEl.style.display =\n",
              "        google.colab.kernel.accessAllowed ? 'block' : 'none';\n",
              "\n",
              "      async function convertToInteractive(key) {\n",
              "        const element = document.querySelector('#df-a418f04e-21fc-4546-9f83-f4a01724e959');\n",
              "        const dataTable =\n",
              "          await google.colab.kernel.invokeFunction('convertToInteractive',\n",
              "                                                    [key], {});\n",
              "        if (!dataTable) return;\n",
              "\n",
              "        const docLinkHtml = 'Like what you see? Visit the ' +\n",
              "          '<a target=\"_blank\" href=https://colab.research.google.com/notebooks/data_table.ipynb>data table notebook</a>'\n",
              "          + ' to learn more about interactive tables.';\n",
              "        element.innerHTML = '';\n",
              "        dataTable['output_type'] = 'display_data';\n",
              "        await google.colab.output.renderOutput(dataTable, element);\n",
              "        const docLink = document.createElement('div');\n",
              "        docLink.innerHTML = docLinkHtml;\n",
              "        element.appendChild(docLink);\n",
              "      }\n",
              "    </script>\n",
              "  </div>\n",
              "\n",
              "\n",
              "<div id=\"df-3051d54f-d0f4-48a7-b4c3-f6dbd975f4b8\">\n",
              "  <button class=\"colab-df-quickchart\" onclick=\"quickchart('df-3051d54f-d0f4-48a7-b4c3-f6dbd975f4b8')\"\n",
              "            title=\"Suggest charts\"\n",
              "            style=\"display:none;\">\n",
              "\n",
              "<svg xmlns=\"http://www.w3.org/2000/svg\" height=\"24px\"viewBox=\"0 0 24 24\"\n",
              "     width=\"24px\">\n",
              "    <g>\n",
              "        <path d=\"M19 3H5c-1.1 0-2 .9-2 2v14c0 1.1.9 2 2 2h14c1.1 0 2-.9 2-2V5c0-1.1-.9-2-2-2zM9 17H7v-7h2v7zm4 0h-2V7h2v10zm4 0h-2v-4h2v4z\"/>\n",
              "    </g>\n",
              "</svg>\n",
              "  </button>\n",
              "\n",
              "<style>\n",
              "  .colab-df-quickchart {\n",
              "      --bg-color: #E8F0FE;\n",
              "      --fill-color: #1967D2;\n",
              "      --hover-bg-color: #E2EBFA;\n",
              "      --hover-fill-color: #174EA6;\n",
              "      --disabled-fill-color: #AAA;\n",
              "      --disabled-bg-color: #DDD;\n",
              "  }\n",
              "\n",
              "  [theme=dark] .colab-df-quickchart {\n",
              "      --bg-color: #3B4455;\n",
              "      --fill-color: #D2E3FC;\n",
              "      --hover-bg-color: #434B5C;\n",
              "      --hover-fill-color: #FFFFFF;\n",
              "      --disabled-bg-color: #3B4455;\n",
              "      --disabled-fill-color: #666;\n",
              "  }\n",
              "\n",
              "  .colab-df-quickchart {\n",
              "    background-color: var(--bg-color);\n",
              "    border: none;\n",
              "    border-radius: 50%;\n",
              "    cursor: pointer;\n",
              "    display: none;\n",
              "    fill: var(--fill-color);\n",
              "    height: 32px;\n",
              "    padding: 0;\n",
              "    width: 32px;\n",
              "  }\n",
              "\n",
              "  .colab-df-quickchart:hover {\n",
              "    background-color: var(--hover-bg-color);\n",
              "    box-shadow: 0 1px 2px rgba(60, 64, 67, 0.3), 0 1px 3px 1px rgba(60, 64, 67, 0.15);\n",
              "    fill: var(--button-hover-fill-color);\n",
              "  }\n",
              "\n",
              "  .colab-df-quickchart-complete:disabled,\n",
              "  .colab-df-quickchart-complete:disabled:hover {\n",
              "    background-color: var(--disabled-bg-color);\n",
              "    fill: var(--disabled-fill-color);\n",
              "    box-shadow: none;\n",
              "  }\n",
              "\n",
              "  .colab-df-spinner {\n",
              "    border: 2px solid var(--fill-color);\n",
              "    border-color: transparent;\n",
              "    border-bottom-color: var(--fill-color);\n",
              "    animation:\n",
              "      spin 1s steps(1) infinite;\n",
              "  }\n",
              "\n",
              "  @keyframes spin {\n",
              "    0% {\n",
              "      border-color: transparent;\n",
              "      border-bottom-color: var(--fill-color);\n",
              "      border-left-color: var(--fill-color);\n",
              "    }\n",
              "    20% {\n",
              "      border-color: transparent;\n",
              "      border-left-color: var(--fill-color);\n",
              "      border-top-color: var(--fill-color);\n",
              "    }\n",
              "    30% {\n",
              "      border-color: transparent;\n",
              "      border-left-color: var(--fill-color);\n",
              "      border-top-color: var(--fill-color);\n",
              "      border-right-color: var(--fill-color);\n",
              "    }\n",
              "    40% {\n",
              "      border-color: transparent;\n",
              "      border-right-color: var(--fill-color);\n",
              "      border-top-color: var(--fill-color);\n",
              "    }\n",
              "    60% {\n",
              "      border-color: transparent;\n",
              "      border-right-color: var(--fill-color);\n",
              "    }\n",
              "    80% {\n",
              "      border-color: transparent;\n",
              "      border-right-color: var(--fill-color);\n",
              "      border-bottom-color: var(--fill-color);\n",
              "    }\n",
              "    90% {\n",
              "      border-color: transparent;\n",
              "      border-bottom-color: var(--fill-color);\n",
              "    }\n",
              "  }\n",
              "</style>\n",
              "\n",
              "  <script>\n",
              "    async function quickchart(key) {\n",
              "      const quickchartButtonEl =\n",
              "        document.querySelector('#' + key + ' button');\n",
              "      quickchartButtonEl.disabled = true;  // To prevent multiple clicks.\n",
              "      quickchartButtonEl.classList.add('colab-df-spinner');\n",
              "      try {\n",
              "        const charts = await google.colab.kernel.invokeFunction(\n",
              "            'suggestCharts', [key], {});\n",
              "      } catch (error) {\n",
              "        console.error('Error during call to suggestCharts:', error);\n",
              "      }\n",
              "      quickchartButtonEl.classList.remove('colab-df-spinner');\n",
              "      quickchartButtonEl.classList.add('colab-df-quickchart-complete');\n",
              "    }\n",
              "    (() => {\n",
              "      let quickchartButtonEl =\n",
              "        document.querySelector('#df-3051d54f-d0f4-48a7-b4c3-f6dbd975f4b8 button');\n",
              "      quickchartButtonEl.style.display =\n",
              "        google.colab.kernel.accessAllowed ? 'block' : 'none';\n",
              "    })();\n",
              "  </script>\n",
              "</div>\n",
              "\n",
              "    </div>\n",
              "  </div>\n"
            ],
            "application/vnd.google.colaboratory.intrinsic+json": {
              "type": "dataframe",
              "variable_name": "data",
              "summary": "{\n  \"name\": \"data\",\n  \"rows\": 20,\n  \"fields\": [\n    {\n      \"column\": \"PatientID\",\n      \"properties\": {\n        \"dtype\": \"number\",\n        \"std\": 5,\n        \"min\": 1,\n        \"max\": 20,\n        \"num_unique_values\": 20,\n        \"samples\": [\n          1,\n          18,\n          16\n        ],\n        \"semantic_type\": \"\",\n        \"description\": \"\"\n      }\n    },\n    {\n      \"column\": \"Age\",\n      \"properties\": {\n        \"dtype\": \"number\",\n        \"std\": 14,\n        \"min\": 19,\n        \"max\": 74,\n        \"num_unique_values\": 18,\n        \"samples\": [\n          44,\n          39,\n          60\n        ],\n        \"semantic_type\": \"\",\n        \"description\": \"\"\n      }\n    },\n    {\n      \"column\": \"BloodPressure\",\n      \"properties\": {\n        \"dtype\": \"number\",\n        \"std\": 20,\n        \"min\": 93,\n        \"max\": 176,\n        \"num_unique_values\": 16,\n        \"samples\": [\n          118,\n          109,\n          132\n        ],\n        \"semantic_type\": \"\",\n        \"description\": \"\"\n      }\n    },\n    {\n      \"column\": \"SugarLevel\",\n      \"properties\": {\n        \"dtype\": \"number\",\n        \"std\": 37.01079539736506,\n        \"min\": 87.00502726461762,\n        \"max\": 197.726355774952,\n        \"num_unique_values\": 20,\n        \"samples\": [\n          87.89249491582838,\n          129.41123366125004,\n          193.2727707077015\n        ],\n        \"semantic_type\": \"\",\n        \"description\": \"\"\n      }\n    },\n    {\n      \"column\": \"Weight\",\n      \"properties\": {\n        \"dtype\": \"number\",\n        \"std\": 21.124021445370197,\n        \"min\": 50.68483483788439,\n        \"max\": 119.050356353696,\n        \"num_unique_values\": 20,\n        \"samples\": [\n          105.56803408361246,\n          83.3004255284348,\n          77.71503785899397\n        ],\n        \"semantic_type\": \"\",\n        \"description\": \"\"\n      }\n    }\n  ]\n}"
            }
          },
          "metadata": {},
          "execution_count": 1
        }
      ],
      "source": [
        "import pandas as pd\n",
        "\n",
        "# Load the dataset\n",
        "data = pd.read_csv('/content/healthcare_data.csv')\n",
        "\n",
        "# Display the first few rows of the dataset\n",
        "data.head()"
      ]
    },
    {
      "cell_type": "code",
      "source": [
        "# Input PatientID to fetch specific details\n",
        "def fetch_by_patient_id(data, patient_id):\n",
        "    return data[data['PatientID'] == patient_id]\n",
        "\n",
        "# Example usage\n",
        "patient_details = fetch_by_patient_id(data, 3)\n",
        "print(patient_details)\n"
      ],
      "metadata": {
        "colab": {
          "base_uri": "https://localhost:8080/"
        },
        "id": "R4vQ5yWplGP0",
        "outputId": "9ceeaad4-88d8-4d00-dd22-a17d0cd60567"
      },
      "execution_count": 4,
      "outputs": [
        {
          "output_type": "stream",
          "name": "stdout",
          "text": [
            "   PatientID  Age  BloodPressure  SugarLevel    Weight     BP_Status\n",
            "2          3   49            149  144.148273  77.78707  Hypertension\n"
          ]
        }
      ]
    },
    {
      "cell_type": "code",
      "source": [
        "# Input age range to fetch patients\n",
        "def fetch_by_age(data, min_age, max_age):\n",
        "    return data[(data['Age'] >= min_age) & (data['Age'] <= max_age)]\n",
        "\n",
        "# Example usage\n",
        "age_filtered_data = fetch_by_age(data, 30, 50)\n",
        "print(age_filtered_data)\n"
      ],
      "metadata": {
        "colab": {
          "base_uri": "https://localhost:8080/"
        },
        "id": "beQ_MJ94lvDB",
        "outputId": "3e191347-fc72-4e35-9ee7-079db7d412e4"
      },
      "execution_count": 5,
      "outputs": [
        {
          "output_type": "stream",
          "name": "stdout",
          "text": [
            "    PatientID  Age  BloodPressure  SugarLevel      Weight         BP_Status\n",
            "0           1   44            118   87.892495  105.568034            Normal\n",
            "1           2   39            109  177.321803  105.703426            Normal\n",
            "2           3   49            149  144.148273   77.787070      Hypertension\n",
            "4           5   35            109  126.421800   70.383790            Normal\n",
            "6           7   46            132  146.607718   62.177515  Pre-hypertension\n",
            "10         11   41            143  180.578796  103.584655      Hypertension\n",
            "11         12   48            141  181.972507   61.454982      Hypertension\n",
            "13         14   35            145  133.385712  113.186632      Hypertension\n",
            "16         17   43            148  135.939482  106.575989      Hypertension\n"
          ]
        }
      ]
    },
    {
      "cell_type": "code",
      "source": [
        "# Input Blood Pressure range to fetch patients\n",
        "def fetch_by_blood_pressure(data, min_bp, max_bp):\n",
        "    return data[(data['BloodPressure'] >= min_bp) & (data['BloodPressure'] <= max_bp)]\n",
        "\n",
        "# Example usage\n",
        "bp_filtered_data = fetch_by_blood_pressure(data, 90, 120)\n",
        "print(bp_filtered_data)\n"
      ],
      "metadata": {
        "colab": {
          "base_uri": "https://localhost:8080/"
        },
        "id": "wq0tDAqTl1a5",
        "outputId": "7dfeaab0-f981-49d6-deaa-c89558fc79ea"
      },
      "execution_count": 6,
      "outputs": [
        {
          "output_type": "stream",
          "name": "stdout",
          "text": [
            "    PatientID  Age  BloodPressure  SugarLevel      Weight BP_Status\n",
            "0           1   44            118   87.892495  105.568034    Normal\n",
            "1           2   39            109  177.321803  105.703426    Normal\n",
            "4           5   35            109  126.421800   70.383790    Normal\n",
            "7           8   28             93  109.754986   81.792259    Normal\n",
            "12         13   58             93  181.783608   50.684835    Normal\n",
            "15         16   70            109  193.272771   77.715038    Normal\n",
            "19         20   56            119  160.715853  111.865698    Normal\n"
          ]
        }
      ]
    },
    {
      "cell_type": "code",
      "source": [
        "# Input Sugar Level range to fetch patients\n",
        "def fetch_by_sugar_level(data, min_sugar, max_sugar):\n",
        "    return data[(data['SugarLevel'] >= min_sugar) & (data['SugarLevel'] <= max_sugar)]\n",
        "\n",
        "# Example usage\n",
        "sugar_filtered_data = fetch_by_sugar_level(data, 70, 140)\n",
        "print(sugar_filtered_data)\n"
      ],
      "metadata": {
        "colab": {
          "base_uri": "https://localhost:8080/"
        },
        "id": "P4xAtjxOl9xN",
        "outputId": "cbd99c78-2c52-44df-9c72-2b57f8270757"
      },
      "execution_count": 7,
      "outputs": [
        {
          "output_type": "stream",
          "name": "stdout",
          "text": [
            "    PatientID  Age  BloodPressure  SugarLevel      Weight         BP_Status\n",
            "0           1   44            118   87.892495  105.568034            Normal\n",
            "3           4   58            121   90.355404  115.244784  Pre-hypertension\n",
            "4           5   35            109  126.421800   70.383790            Normal\n",
            "5           6   25            129   95.273114  119.050356  Pre-hypertension\n",
            "7           8   28             93  109.754986   81.792259            Normal\n",
            "8           9   60            145  103.193831   94.637368      Hypertension\n",
            "13         14   35            145  133.385712  113.186632      Hypertension\n",
            "14         15   67            176   87.005027   84.938576      Hypertension\n",
            "16         17   43            148  135.939482  106.575989      Hypertension\n",
            "17         18   74            122  129.411234   83.300426  Pre-hypertension\n",
            "18         19   19            147  125.483958   74.081938      Hypertension\n"
          ]
        }
      ]
    },
    {
      "cell_type": "code",
      "source": [
        "import matplotlib.pyplot as plt\n",
        "\n",
        "# Line graph for Blood Pressure\n",
        "plt.figure(figsize=(8, 5))\n",
        "plt.plot(data[\"PatientID\"], data[\"BloodPressure\"], marker='o', label=\"Blood Pressure\")\n",
        "plt.title(\"Blood Pressure Trend Across Patients\")\n",
        "plt.xlabel(\"PatientID\")\n",
        "plt.ylabel(\"Blood Pressure\")\n",
        "plt.grid(True)\n",
        "plt.legend()\n",
        "plt.show()\n",
        "\n"
      ],
      "metadata": {
        "colab": {
          "base_uri": "https://localhost:8080/",
          "height": 487
        },
        "id": "yQ2pmBWmm-pd",
        "outputId": "b4011434-18ed-444e-c35c-0fbce0ba887f"
      },
      "execution_count": 10,
      "outputs": [
        {
          "output_type": "display_data",
          "data": {
            "text/plain": [
              "<Figure size 800x500 with 1 Axes>"
            ],
            "image/png": "[encoded data removed]"
          },
          "metadata": {}
        }
      ]
    }
  ]
}